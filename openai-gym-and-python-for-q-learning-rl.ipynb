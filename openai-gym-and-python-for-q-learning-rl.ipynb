{
 "cells": [
  {
   "cell_type": "markdown",
   "id": "f6107254",
   "metadata": {
    "papermill": {
     "duration": 0.019132,
     "end_time": "2022-02-07T19:28:42.124122",
     "exception": false,
     "start_time": "2022-02-07T19:28:42.104990",
     "status": "completed"
    },
    "tags": []
   },
   "source": [
    "# Reinforcement Learning - Developing Intelligent Agents"
   ]
  },
  {
   "cell_type": "markdown",
   "id": "17b8380d",
   "metadata": {
    "papermill": {
     "duration": 0.017294,
     "end_time": "2022-02-07T19:28:42.160630",
     "exception": false,
     "start_time": "2022-02-07T19:28:42.143336",
     "status": "completed"
    },
    "tags": []
   },
   "source": [
    "<h4 style='color:CornflowerBlue;'>Deep Learning Course 5 of 6 - Level: Advanced</h4>\n",
    "<p style='color:DeepSkyBlue;'>Follow up <a href='https://deeplizard.com/'>Deeplizrard</a> for more information</p>\n",
    "\n",
    "1. <a href='https://deeplizard.com/learn/video/QK_PP_2KgGE'>OpenAI Gym and Python for Q-learning - Reinforcement Learning Code Project</a>\n",
    "2. <a href='https://deeplizard.com/learn/video/HGeI30uATws'>Train Q-learning Agent with Python - Reinforcement Learning Code Project</a>\n",
    "3. <a href='https://deeplizard.com/learn/video/ZaILVnqZFCg'>Watch Q-learning Agent Play Game with Python - Reinforcement Learning Code Project</a>\n"
   ]
  },
  {
   "cell_type": "markdown",
   "id": "18f923de",
   "metadata": {
    "papermill": {
     "duration": 0.017614,
     "end_time": "2022-02-07T19:28:42.196281",
     "exception": false,
     "start_time": "2022-02-07T19:28:42.178667",
     "status": "completed"
    },
    "tags": []
   },
   "source": [
    "# <font size='5' color='CornflowerBlue'>OpenAI Gym and Python for Q-learning - Reinforcement Learning Code Project</font>"
   ]
  },
  {
   "cell_type": "markdown",
   "id": "2f3b25ce",
   "metadata": {
    "papermill": {
     "duration": 0.017304,
     "end_time": "2022-02-07T19:28:42.231267",
     "exception": false,
     "start_time": "2022-02-07T19:28:42.213963",
     "status": "completed"
    },
    "tags": []
   },
   "source": [
    "# <font size='4' color='DarkSlateBlue'><b>OpenAI Gym</b></font>"
   ]
  },
  {
   "cell_type": "markdown",
   "id": "1b028dd1",
   "metadata": {
    "papermill": {
     "duration": 0.01653,
     "end_time": "2022-02-07T19:28:42.265080",
     "exception": false,
     "start_time": "2022-02-07T19:28:42.248550",
     "status": "completed"
    },
    "tags": []
   },
   "source": [
    "we'll be using Python and OpenAI Gym to develop our reinforcement learning algorithm. The Gym library is a collection of environments that we can use with the reinforcement learning algorithms we develop.\n",
    "\n",
    "Gym has a ton of environments ranging from simple text based games to Atari games like Breakout and Space Invaders. The library is intuitive to use and simple to install. Just run pip install gym, and you're good to go! [The link to Gym's installation instructions, requirements, and documentation](https://gym.openai.com/docs/) is included in the description. Go ahead and get that installed now because we'll need it in just a moment. \n",
    "\n",
    "<center>\n",
    "<img src='https://deeplizard.com/assets/svg/ac9a374b.svg'/>\n",
    "</center>"
   ]
  },
  {
   "cell_type": "markdown",
   "id": "093bdae5",
   "metadata": {
    "papermill": {
     "duration": 0.016565,
     "end_time": "2022-02-07T19:28:42.298895",
     "exception": false,
     "start_time": "2022-02-07T19:28:42.282330",
     "status": "completed"
    },
    "tags": []
   },
   "source": [
    " We'll be making use of Gym to provide us with an environment for a simple game called Frozen Lake. We'll then train an agent to play the game using Q-learning, and we'll get a playback of how the agent does after being trained.\n",
    "\n",
    "So, let's jump into the details for **Frozen Lake**! "
   ]
  },
  {
   "cell_type": "markdown",
   "id": "b1ee1844",
   "metadata": {
    "papermill": {
     "duration": 0.017004,
     "end_time": "2022-02-07T19:28:42.333124",
     "exception": false,
     "start_time": "2022-02-07T19:28:42.316120",
     "status": "completed"
    },
    "tags": []
   },
   "source": [
    "# <font size='4' color='DeepSkyBlue'><b>Overview</b></font>"
   ]
  },
  {
   "cell_type": "markdown",
   "id": "4f0b8141",
   "metadata": {
    "papermill": {
     "duration": 0.01673,
     "end_time": "2022-02-07T19:28:42.367947",
     "exception": false,
     "start_time": "2022-02-07T19:28:42.351217",
     "status": "completed"
    },
    "tags": []
   },
   "source": [
    "This grid is our environment where `S` is the agent's starting point, and it's safe. `F` represents the frozen surface and is also safe. `H` represents a hole, and if our agent steps in a hole in the middle of a frozen lake, well, that's not good. Finally, `G` represents the goal, which is the space on the grid where the prized frisbee is located.\n",
    "\n",
    "The agent can navigate left, right, up, and down, and the episode ends when the agent reaches the goal or falls in a hole. It receives a reward of one if it reaches the goal, and zero otherwise. "
   ]
  },
  {
   "cell_type": "markdown",
   "id": "c73faff5",
   "metadata": {
    "papermill": {
     "duration": 0.017009,
     "end_time": "2022-02-07T19:28:42.401918",
     "exception": false,
     "start_time": "2022-02-07T19:28:42.384909",
     "status": "completed"
    },
    "tags": []
   },
   "source": [
    "# <font size='4' color='DeepSkyBlue'><b>Table Dictionary</b></font>"
   ]
  },
  {
   "cell_type": "markdown",
   "id": "45629b65",
   "metadata": {
    "papermill": {
     "duration": 0.016782,
     "end_time": "2022-02-07T19:28:42.435912",
     "exception": false,
     "start_time": "2022-02-07T19:28:42.419130",
     "status": "completed"
    },
    "tags": []
   },
   "source": [
    "<table>\n",
    "<thead>\n",
    "  <tr>\n",
    "    <th>State</th>\n",
    "    <th>Description</th>\n",
    "    <th>Reward</th>\n",
    "  </tr>\n",
    "</thead>\n",
    "<tbody>\n",
    "  <tr>\n",
    "    <td>S</td>\n",
    "    <td>Agent's starting point - safe</td>\n",
    "    <td>0</td>\n",
    "  </tr>\n",
    "  <tr>\n",
    "    <td>F</td>\n",
    "    <td>Frozen surface - safe</td>\n",
    "    <td>0</td>\n",
    "  </tr>\n",
    "  <tr>\n",
    "    <td>H</td>\n",
    "    <td>Hole - game over</td>\n",
    "    <td>0</td>\n",
    "  </tr>\n",
    "  <tr>\n",
    "    <td>G</td>\n",
    "    <td>Goal - game over</td>\n",
    "    <td>1</td>\n",
    "  </tr>\n",
    "</tbody>\n",
    "</table>"
   ]
  },
  {
   "cell_type": "markdown",
   "id": "448eec34",
   "metadata": {
    "papermill": {
     "duration": 0.016788,
     "end_time": "2022-02-07T19:28:42.469809",
     "exception": false,
     "start_time": "2022-02-07T19:28:42.453021",
     "status": "completed"
    },
    "tags": []
   },
   "source": [
    "---"
   ]
  },
  {
   "cell_type": "markdown",
   "id": "fa8d34c9",
   "metadata": {
    "papermill": {
     "duration": 0.016628,
     "end_time": "2022-02-07T19:28:42.503609",
     "exception": false,
     "start_time": "2022-02-07T19:28:42.486981",
     "status": "completed"
    },
    "tags": []
   },
   "source": [
    "# <font size='4' color='DeepSkyBlue'><b>Configurations</b></font>"
   ]
  },
  {
   "cell_type": "markdown",
   "id": "8be9b0a0",
   "metadata": {
    "papermill": {
     "duration": 0.01719,
     "end_time": "2022-02-07T19:28:42.538218",
     "exception": false,
     "start_time": "2022-02-07T19:28:42.521028",
     "status": "completed"
    },
    "tags": []
   },
   "source": [
    "Install **Gym**"
   ]
  },
  {
   "cell_type": "code",
   "execution_count": 1,
   "id": "7a56f713",
   "metadata": {
    "execution": {
     "iopub.execute_input": "2022-02-07T19:28:42.583680Z",
     "iopub.status.busy": "2022-02-07T19:28:42.583020Z",
     "iopub.status.idle": "2022-02-07T19:28:52.718852Z",
     "shell.execute_reply": "2022-02-07T19:28:52.717928Z"
    },
    "papermill": {
     "duration": 10.163536,
     "end_time": "2022-02-07T19:28:52.719055",
     "exception": false,
     "start_time": "2022-02-07T19:28:42.555519",
     "status": "completed"
    },
    "tags": []
   },
   "outputs": [
    {
     "name": "stdout",
     "output_type": "stream",
     "text": [
      "\u001b[33mWARNING: Running pip as the 'root' user can result in broken permissions and conflicting behaviour with the system package manager. It is recommended to use a virtual environment instead: https://pip.pypa.io/warnings/venv\u001b[0m\r\n",
      "Note: you may need to restart the kernel to use updated packages.\n"
     ]
    }
   ],
   "source": [
    "pip install gym -q"
   ]
  },
  {
   "cell_type": "markdown",
   "id": "8ef98ae4",
   "metadata": {
    "papermill": {
     "duration": 0.016954,
     "end_time": "2022-02-07T19:28:52.756897",
     "exception": false,
     "start_time": "2022-02-07T19:28:52.739943",
     "status": "completed"
    },
    "tags": []
   },
   "source": [
    "Apply using auto-completion"
   ]
  },
  {
   "cell_type": "code",
   "execution_count": 2,
   "id": "b7fc5cdf",
   "metadata": {
    "execution": {
     "iopub.execute_input": "2022-02-07T19:28:52.803384Z",
     "iopub.status.busy": "2022-02-07T19:28:52.796256Z",
     "iopub.status.idle": "2022-02-07T19:28:52.812051Z",
     "shell.execute_reply": "2022-02-07T19:28:52.811372Z"
    },
    "papermill": {
     "duration": 0.037801,
     "end_time": "2022-02-07T19:28:52.812220",
     "exception": false,
     "start_time": "2022-02-07T19:28:52.774419",
     "status": "completed"
    },
    "tags": []
   },
   "outputs": [],
   "source": [
    "%config Completer.use_jedi = False"
   ]
  },
  {
   "cell_type": "markdown",
   "id": "2e919bc5",
   "metadata": {
    "papermill": {
     "duration": 0.016863,
     "end_time": "2022-02-07T19:28:52.846632",
     "exception": false,
     "start_time": "2022-02-07T19:28:52.829769",
     "status": "completed"
    },
    "tags": []
   },
   "source": [
    "# <font size='4' color='DeepSkyBlue'><b>Libraries</b></font>"
   ]
  },
  {
   "cell_type": "code",
   "execution_count": 3,
   "id": "7693fbe0",
   "metadata": {
    "execution": {
     "iopub.execute_input": "2022-02-07T19:28:52.886385Z",
     "iopub.status.busy": "2022-02-07T19:28:52.884409Z",
     "iopub.status.idle": "2022-02-07T19:28:53.346906Z",
     "shell.execute_reply": "2022-02-07T19:28:53.346232Z"
    },
    "papermill": {
     "duration": 0.483322,
     "end_time": "2022-02-07T19:28:53.347078",
     "exception": false,
     "start_time": "2022-02-07T19:28:52.863756",
     "status": "completed"
    },
    "tags": []
   },
   "outputs": [],
   "source": [
    "import random\n",
    "import time\n",
    "\n",
    "import numpy as np\n",
    "import gym\n",
    "\n",
    "from IPython.display import clear_output"
   ]
  },
  {
   "cell_type": "markdown",
   "id": "7fbbe423",
   "metadata": {
    "papermill": {
     "duration": 0.01693,
     "end_time": "2022-02-07T19:28:53.381548",
     "exception": false,
     "start_time": "2022-02-07T19:28:53.364618",
     "status": "completed"
    },
    "tags": []
   },
   "source": [
    "  "
   ]
  },
  {
   "cell_type": "markdown",
   "id": "35978194",
   "metadata": {
    "papermill": {
     "duration": 0.017227,
     "end_time": "2022-02-07T19:28:53.416331",
     "exception": false,
     "start_time": "2022-02-07T19:28:53.399104",
     "status": "completed"
    },
    "tags": []
   },
   "source": [
    "# <font size='4' color='DeepSkyBlue'><b>Create the Environment</b></font>"
   ]
  },
  {
   "cell_type": "code",
   "execution_count": 4,
   "id": "41b1a46a",
   "metadata": {
    "execution": {
     "iopub.execute_input": "2022-02-07T19:28:53.457130Z",
     "iopub.status.busy": "2022-02-07T19:28:53.456194Z",
     "iopub.status.idle": "2022-02-07T19:28:53.470490Z",
     "shell.execute_reply": "2022-02-07T19:28:53.469832Z"
    },
    "papermill": {
     "duration": 0.036969,
     "end_time": "2022-02-07T19:28:53.470682",
     "exception": false,
     "start_time": "2022-02-07T19:28:53.433713",
     "status": "completed"
    },
    "tags": []
   },
   "outputs": [],
   "source": [
    "env = gym.make('FrozenLake-v1')"
   ]
  },
  {
   "cell_type": "markdown",
   "id": "e7143a16",
   "metadata": {
    "papermill": {
     "duration": 0.01698,
     "end_time": "2022-02-07T19:28:53.505316",
     "exception": false,
     "start_time": "2022-02-07T19:28:53.488336",
     "status": "completed"
    },
    "tags": []
   },
   "source": [
    "# <font size='4' color='DeepSkyBlue'><b>Create the Q-table</b></font>"
   ]
  },
  {
   "cell_type": "code",
   "execution_count": 5,
   "id": "cabab05e",
   "metadata": {
    "execution": {
     "iopub.execute_input": "2022-02-07T19:28:53.545388Z",
     "iopub.status.busy": "2022-02-07T19:28:53.544636Z",
     "iopub.status.idle": "2022-02-07T19:28:53.546479Z",
     "shell.execute_reply": "2022-02-07T19:28:53.546917Z"
    },
    "papermill": {
     "duration": 0.024506,
     "end_time": "2022-02-07T19:28:53.547112",
     "exception": false,
     "start_time": "2022-02-07T19:28:53.522606",
     "status": "completed"
    },
    "tags": []
   },
   "outputs": [],
   "source": [
    "action_space_size = env.action_space.n\n",
    "state_space_size = env.observation_space.n"
   ]
  },
  {
   "cell_type": "code",
   "execution_count": 6,
   "id": "6e9c245e",
   "metadata": {
    "execution": {
     "iopub.execute_input": "2022-02-07T19:28:53.586662Z",
     "iopub.status.busy": "2022-02-07T19:28:53.585930Z",
     "iopub.status.idle": "2022-02-07T19:28:53.594795Z",
     "shell.execute_reply": "2022-02-07T19:28:53.595388Z"
    },
    "papermill": {
     "duration": 0.03073,
     "end_time": "2022-02-07T19:28:53.595608",
     "exception": false,
     "start_time": "2022-02-07T19:28:53.564878",
     "status": "completed"
    },
    "tags": []
   },
   "outputs": [
    {
     "data": {
      "text/plain": [
       "array([[0., 0., 0., 0.],\n",
       "       [0., 0., 0., 0.],\n",
       "       [0., 0., 0., 0.],\n",
       "       [0., 0., 0., 0.],\n",
       "       [0., 0., 0., 0.],\n",
       "       [0., 0., 0., 0.],\n",
       "       [0., 0., 0., 0.],\n",
       "       [0., 0., 0., 0.],\n",
       "       [0., 0., 0., 0.],\n",
       "       [0., 0., 0., 0.],\n",
       "       [0., 0., 0., 0.],\n",
       "       [0., 0., 0., 0.],\n",
       "       [0., 0., 0., 0.],\n",
       "       [0., 0., 0., 0.],\n",
       "       [0., 0., 0., 0.],\n",
       "       [0., 0., 0., 0.]])"
      ]
     },
     "execution_count": 6,
     "metadata": {},
     "output_type": "execute_result"
    }
   ],
   "source": [
    "q_table = np.zeros((state_space_size, action_space_size))\n",
    "q_table"
   ]
  },
  {
   "cell_type": "markdown",
   "id": "9c78dfc2",
   "metadata": {
    "papermill": {
     "duration": 0.017344,
     "end_time": "2022-02-07T19:28:53.630746",
     "exception": false,
     "start_time": "2022-02-07T19:28:53.613402",
     "status": "completed"
    },
    "tags": []
   },
   "source": [
    "# <font size='4' color='DarkTurquoise'><b>Initializing Q-learning parameters</b></font>"
   ]
  },
  {
   "cell_type": "code",
   "execution_count": 7,
   "id": "decc15b9",
   "metadata": {
    "execution": {
     "iopub.execute_input": "2022-02-07T19:28:53.670165Z",
     "iopub.status.busy": "2022-02-07T19:28:53.669432Z",
     "iopub.status.idle": "2022-02-07T19:28:53.673641Z",
     "shell.execute_reply": "2022-02-07T19:28:53.674291Z"
    },
    "papermill": {
     "duration": 0.025977,
     "end_time": "2022-02-07T19:28:53.674491",
     "exception": false,
     "start_time": "2022-02-07T19:28:53.648514",
     "status": "completed"
    },
    "tags": []
   },
   "outputs": [],
   "source": [
    "num_episodes = int(1e4)\n",
    "max_steps_per_episode = 100\n",
    "\n",
    "lr = 1e-1\n",
    "dr = 0.99\n",
    "\n",
    "exploration_rate = 1\n",
    "max_exp_rate = 1\n",
    "min_exp_rate = 1e-3\n",
    "exp_decay_rate = 1e-3\n",
    "\n",
    "# building a reward list for all the episodes\n",
    "rewards_all_episodes = []"
   ]
  },
  {
   "cell_type": "markdown",
   "id": "1b59f7b8",
   "metadata": {
    "papermill": {
     "duration": 0.018561,
     "end_time": "2022-02-07T19:28:53.711679",
     "exception": false,
     "start_time": "2022-02-07T19:28:53.693118",
     "status": "completed"
    },
    "tags": []
   },
   "source": [
    "# <font size='4' color='DarkTurquoise'><b>Building the Q-learning Algorithm</b></font>"
   ]
  },
  {
   "cell_type": "code",
   "execution_count": 8,
   "id": "012de28a",
   "metadata": {
    "execution": {
     "iopub.execute_input": "2022-02-07T19:28:53.757599Z",
     "iopub.status.busy": "2022-02-07T19:28:53.756853Z",
     "iopub.status.idle": "2022-02-07T19:29:01.510659Z",
     "shell.execute_reply": "2022-02-07T19:29:01.509907Z"
    },
    "papermill": {
     "duration": 7.781068,
     "end_time": "2022-02-07T19:29:01.510852",
     "exception": false,
     "start_time": "2022-02-07T19:28:53.729784",
     "status": "completed"
    },
    "tags": []
   },
   "outputs": [],
   "source": [
    "# Q-learning algorithm\n",
    "for episode in range(num_episodes):\n",
    "    # reset the movements in the env\n",
    "    state = env.reset()\n",
    "    # check if the agent reaches the target\n",
    "    done = False\n",
    "    \n",
    "    # variable for expected return G_t\n",
    "    rewards_current_episode = 0\n",
    "    \n",
    "    # for loop for each step for the agent\n",
    "    for step in range(max_steps_per_episode):\n",
    "        \n",
    "        # apply epsilon greedy stategy\n",
    "        random_number = random.uniform(0, 1)\n",
    "        # Exploration Vs. Exploitation trade-off\n",
    "        if random_number > exploration_rate:\n",
    "            # start exploitation ---> getting the maximum Q-value from the possible movements of his current state.\n",
    "            action = np.argmax(q_table[state, :])\n",
    "        else:\n",
    "            # start exploration ---> select any random action to explore a random state.\n",
    "            action = env.action_space.sample()\n",
    "        \n",
    "        # after taking the action, we're going to update our agent with the new info, rewards, state, and if he reaches the end or not!\n",
    "        new_state, reward, done, info = env.step(action)\n",
    "        \n",
    "        # Update our Q-table for Q(s, a) using Bellman Equation\n",
    "                                            # Old Q-value\n",
    "        q_table[state, action] = (1 - lr) * q_table[state, action] + \\\n",
    "                                 lr * (reward + dr*(np.max(q_table[new_state, :])))\n",
    "                                            # learned value\n",
    "\n",
    "        # transition to the next state\n",
    "        state = new_state\n",
    "        rewards_current_episode += reward\n",
    "        \n",
    "        # check to see if our last action ended the episode for us,\n",
    "        # meaning, did our agent step in a hole or reach the goal?\n",
    "        if done:\n",
    "            break\n",
    "        # If the action did end the episode, then we jump out of this loop and move on to the next episode.\n",
    "        # Otherwise, we transition to the next time-step.\n",
    "    \n",
    "    # Exploration Rate Decay\n",
    "    # https://en.wikipedia.org/wiki/Exponential_decay\n",
    "    exploration_rate = min_exp_rate + \\\n",
    "                      (max_exp_rate - min_exp_rate) * np.exp(-exp_decay_rate * episode)\n",
    "    \n",
    "    # append the current rewards in the list of rewards\n",
    "    rewards_all_episodes.append(rewards_current_episode)"
   ]
  },
  {
   "cell_type": "markdown",
   "id": "c147be47",
   "metadata": {
    "papermill": {
     "duration": 0.018329,
     "end_time": "2022-02-07T19:29:01.547983",
     "exception": false,
     "start_time": "2022-02-07T19:29:01.529654",
     "status": "completed"
    },
    "tags": []
   },
   "source": [
    "# <font size='4' color='DarkTurquoise'><b>Examinating the rewards</b></font>"
   ]
  },
  {
   "cell_type": "code",
   "execution_count": 9,
   "id": "ddbe99cb",
   "metadata": {
    "execution": {
     "iopub.execute_input": "2022-02-07T19:29:01.589415Z",
     "iopub.status.busy": "2022-02-07T19:29:01.588370Z",
     "iopub.status.idle": "2022-02-07T19:29:01.599386Z",
     "shell.execute_reply": "2022-02-07T19:29:01.599988Z"
    },
    "papermill": {
     "duration": 0.033809,
     "end_time": "2022-02-07T19:29:01.600274",
     "exception": false,
     "start_time": "2022-02-07T19:29:01.566465",
     "status": "completed"
    },
    "tags": []
   },
   "outputs": [
    {
     "name": "stdout",
     "output_type": "stream",
     "text": [
      "*******************************Average rewards per thousand episodes********************************\n",
      "Count No. 1,000: 0.04300000000000003\n",
      "Count No. 2,000: 0.20700000000000016\n",
      "Count No. 3,000: 0.44700000000000034\n",
      "Count No. 4,000: 0.6160000000000004\n",
      "Count No. 5,000: 0.6450000000000005\n",
      "Count No. 6,000: 0.7080000000000005\n",
      "Count No. 7,000: 0.7040000000000005\n",
      "Count No. 8,000: 0.7410000000000005\n",
      "Count No. 9,000: 0.7120000000000005\n",
      "Count No. 10,000: 0.7520000000000006\n"
     ]
    }
   ],
   "source": [
    "# Calculate the average reward per thousand episodes\n",
    "rewards_per_thousand_episodes = np.split(np.array(rewards_all_episodes), num_episodes/1000)\n",
    "count = 1000\n",
    "\n",
    "print(\"Average rewards per thousand episodes\".center(100, '*'))\n",
    "for reward in rewards_per_thousand_episodes:\n",
    "    print(f'Count No. {count:,}: {sum(reward/1000)}')\n",
    "    count += 1000"
   ]
  },
  {
   "cell_type": "markdown",
   "id": "3c8eb4e9",
   "metadata": {
    "papermill": {
     "duration": 0.020914,
     "end_time": "2022-02-07T19:29:01.640739",
     "exception": false,
     "start_time": "2022-02-07T19:29:01.619825",
     "status": "completed"
    },
    "tags": []
   },
   "source": [
    "From the printout we can notice that our average reward per thousand epoisodes did indeed progress overtime. When the algorithm first start training, the first thousands episodes only average a reward of `0.062`, but by the time it got to its last thousand episodes, the reward improved to `0.746`."
   ]
  },
  {
   "cell_type": "markdown",
   "id": "bd01d968",
   "metadata": {
    "papermill": {
     "duration": 0.019644,
     "end_time": "2022-02-07T19:29:01.680604",
     "exception": false,
     "start_time": "2022-02-07T19:29:01.660960",
     "status": "completed"
    },
    "tags": []
   },
   "source": [
    "# <font size='4' color='DarkTurquoise'><b><a href='https://deeplizard.com/learn/video/HGeI30uATws#:~:text=%20interpreting%20the%20training%20results%20'>Interpreting the training results</a></b></font>"
   ]
  },
  {
   "cell_type": "markdown",
   "id": "4c6cb8c1",
   "metadata": {
    "papermill": {
     "duration": 0.018652,
     "end_time": "2022-02-07T19:29:01.718524",
     "exception": false,
     "start_time": "2022-02-07T19:29:01.699872",
     "status": "completed"
    },
    "tags": []
   },
   "source": [
    "Our agent played `10,000` episodes. At each time step within an episode, the agent received a reward of `1` if it reached the frisbee, otherwise, it received a reward of `0`. If the agent did indeed reach the frisbee, then the episode finished at that time-step. "
   ]
  },
  {
   "cell_type": "markdown",
   "id": "a686529f",
   "metadata": {
    "papermill": {
     "duration": 0.019889,
     "end_time": "2022-02-07T19:29:01.757241",
     "exception": false,
     "start_time": "2022-02-07T19:29:01.737352",
     "status": "completed"
    },
    "tags": []
   },
   "source": [
    "So, that means for each episode, the total reward received by the agent for the entire episode is either `1` or `0`. So, for the first thousand episodes, we can interpret this score as meaning that  **6%** of the time, the agent received a reward of `1` and won the episode. And by the last thousand episodes from a total of 10,000, the agent was winning **74%** of the time. "
   ]
  },
  {
   "cell_type": "code",
   "execution_count": 10,
   "id": "089ee994",
   "metadata": {
    "execution": {
     "iopub.execute_input": "2022-02-07T19:29:01.799199Z",
     "iopub.status.busy": "2022-02-07T19:29:01.798024Z",
     "iopub.status.idle": "2022-02-07T19:29:01.811585Z",
     "shell.execute_reply": "2022-02-07T19:29:01.812127Z"
    },
    "papermill": {
     "duration": 0.036621,
     "end_time": "2022-02-07T19:29:01.812351",
     "exception": false,
     "start_time": "2022-02-07T19:29:01.775730",
     "status": "completed"
    },
    "tags": []
   },
   "outputs": [
    {
     "name": "stdout",
     "output_type": "stream",
     "text": [
      "**********************************************Q-Table***********************************************\n",
      "\n",
      "                          [0.54820119 0.49994904 0.47970801 0.51061614]\n",
      "                          [0.36958845 0.33922171 0.23301015 0.54016008]\n",
      "                          [0.40585435 0.40038556 0.39276924 0.48140859]\n",
      "                          [0.28167693 0.30772348 0.3291846  0.45667489]\n",
      "                          [0.56209941 0.3012319  0.34741145 0.36623447]\n",
      "                          [0. 0. 0. 0.]\n",
      "                          [0.15210576 0.16754297 0.34680018 0.14607937]\n",
      "                          [0. 0. 0. 0.]\n",
      "                          [0.37211351 0.310166   0.29906663 0.60830448]\n",
      "                          [0.42174115 0.66645983 0.32512315 0.39979986]\n",
      "                          [0.66244579 0.36336012 0.397786   0.33473133]\n",
      "                          [0. 0. 0. 0.]\n",
      "                          [0. 0. 0. 0.]\n",
      "                          [0.48416014 0.58513452 0.75380664 0.60579725]\n",
      "                          [0.73344009 0.90315507 0.72423392 0.73695928]\n",
      "                          [0. 0. 0. 0.]\n"
     ]
    }
   ],
   "source": [
    "print(\"Q-Table\".center(100, '*'))\n",
    "print()\n",
    "\n",
    "for row in q_table:\n",
    "    print(' '* 25, row)"
   ]
  },
  {
   "cell_type": "markdown",
   "id": "9672e492",
   "metadata": {
    "papermill": {
     "duration": 0.019529,
     "end_time": "2022-02-07T19:29:01.851174",
     "exception": false,
     "start_time": "2022-02-07T19:29:01.831645",
     "status": "completed"
    },
    "tags": []
   },
   "source": [
    "# <font size='4' color='DarkTurquoise'><b>Building the Q-learning Interface</b></font>"
   ]
  },
  {
   "cell_type": "markdown",
   "id": "f803d67d",
   "metadata": {
    "papermill": {
     "duration": 0.019846,
     "end_time": "2022-02-07T19:29:01.890539",
     "exception": false,
     "start_time": "2022-02-07T19:29:01.870693",
     "status": "completed"
    },
    "tags": []
   },
   "source": [
    "Let's see how interactively the agent plays **Frozen Lake**"
   ]
  },
  {
   "cell_type": "code",
   "execution_count": 11,
   "id": "5398d7ea",
   "metadata": {
    "execution": {
     "iopub.execute_input": "2022-02-07T19:29:01.934046Z",
     "iopub.status.busy": "2022-02-07T19:29:01.932854Z",
     "iopub.status.idle": "2022-02-07T19:30:58.830144Z",
     "shell.execute_reply": "2022-02-07T19:30:58.829552Z"
    },
    "papermill": {
     "duration": 116.920324,
     "end_time": "2022-02-07T19:30:58.830312",
     "exception": false,
     "start_time": "2022-02-07T19:29:01.909988",
     "status": "completed"
    },
    "tags": []
   },
   "outputs": [
    {
     "name": "stdout",
     "output_type": "stream",
     "text": [
      "  (Down)\n",
      "SFFF\n",
      "FHFH\n",
      "FFFH\n",
      "HFF\u001b[41mG\u001b[0m\n",
      "***************You reach the goal!****************\n"
     ]
    }
   ],
   "source": [
    "for episode in range(5):\n",
    "    state = env.reset()\n",
    "    done = False\n",
    "    print(f'Episode: {episode+1}'.center(50, '='))\n",
    "    time.sleep(1)\n",
    "    \n",
    "    for step in range(max_steps_per_episode):\n",
    "        # for clearning the board\n",
    "        clear_output(wait=True)\n",
    "        # allows you to check the agent's environment\n",
    "        env.render()\n",
    "        time.sleep(0.4)\n",
    "        \n",
    "        # invoke the action with the highest Q-value from the Q-Table for the current state\n",
    "        action = np.argmax(q_table[state, :])\n",
    "        \n",
    "        # take the action and move to the new state\n",
    "        new_state, reward, done, info = env.step(action)\n",
    "        \n",
    "        # acting condition\n",
    "        if done:\n",
    "            clear_output(wait=True)\n",
    "            env.render()\n",
    "            if reward == 1:\n",
    "                print('You reach the goal!'.center(50, '*'))\n",
    "                time.sleep(3)\n",
    "            else:\n",
    "                print('You fall through a hole!'.center(50, '-'))\n",
    "                time.sleep(3)\n",
    "                clear_output(wait=True)\n",
    "            break\n",
    "\n",
    "        # select the new state based on the agent action\n",
    "        state = new_state\n",
    "\n",
    "# close the environment\n",
    "env.close()"
   ]
  },
  {
   "cell_type": "markdown",
   "id": "e14d0360",
   "metadata": {
    "papermill": {
     "duration": 0.019129,
     "end_time": "2022-02-07T19:30:58.869093",
     "exception": false,
     "start_time": "2022-02-07T19:30:58.849964",
     "status": "completed"
    },
    "tags": []
   },
   "source": [
    "\n",
    "***Applied by [Ahmed](https://www.linkedin.com/in/ai-ahmed/) – Environment [Gradient](https://console.paperspace.com/ai-ahmed/notebook/r1v841exffrzbek)***\n",
    "- Github: [AI-Ahmed](https://github.com/AI-Ahmed)\n",
    "- Kaggle: [Ahmed](https://www.kaggle.com/dsxavier)"
   ]
  }
 ],
 "metadata": {
  "kernelspec": {
   "display_name": "Python 3",
   "language": "python",
   "name": "python3"
  },
  "language_info": {
   "codemirror_mode": {
    "name": "ipython",
    "version": 3
   },
   "file_extension": ".py",
   "mimetype": "text/x-python",
   "name": "python",
   "nbconvert_exporter": "python",
   "pygments_lexer": "ipython3",
   "version": "3.7.12"
  },
  "papermill": {
   "default_parameters": {},
   "duration": 147.704278,
   "end_time": "2022-02-07T19:30:59.701006",
   "environment_variables": {},
   "exception": null,
   "input_path": "__notebook__.ipynb",
   "output_path": "__notebook__.ipynb",
   "parameters": {},
   "start_time": "2022-02-07T19:28:31.996728",
   "version": "2.3.3"
  }
 },
 "nbformat": 4,
 "nbformat_minor": 5
}
